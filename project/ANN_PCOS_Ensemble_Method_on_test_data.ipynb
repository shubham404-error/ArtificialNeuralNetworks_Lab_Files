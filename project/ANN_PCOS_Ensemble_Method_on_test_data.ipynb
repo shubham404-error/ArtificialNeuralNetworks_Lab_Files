{
  "nbformat": 4,
  "nbformat_minor": 0,
  "metadata": {
    "colab": {
      "provenance": []
    },
    "kernelspec": {
      "name": "python3",
      "display_name": "Python 3"
    },
    "language_info": {
      "name": "python"
    }
  },
  "cells": [
    {
      "cell_type": "markdown",
      "source": [
        "#2) Implement all  ensemble   models.\n",
        "##Test Data"
      ],
      "metadata": {
        "id": "FnynDwjnbhrF"
      }
    },
    {
      "cell_type": "code",
      "execution_count": null,
      "metadata": {
        "colab": {
          "base_uri": "https://localhost:8080/",
          "height": 454
        },
        "id": "GbBjqTFsGyXr",
        "outputId": "828e35f1-cd63-4d84-9a6b-2fd3e8daf39c"
      },
      "outputs": [
        {
          "output_type": "execute_result",
          "data": {
            "text/plain": [
              "   PCOS (Y/N)  Age (yrs)  Weight (Kg)  Height(Cm)   BMI  Blood Group  \\\n",
              "0           0         36         65.0       161.5  24.9           15   \n",
              "1           0         33         58.5       159.0  23.1           13   \n",
              "2           1         25         74.0       152.0  32.0           17   \n",
              "3           0         38         80.5       154.0  33.9           13   \n",
              "4           0         31         52.4       159.0  20.7           17   \n",
              "5           0         25         64.0       156.0  26.3           11   \n",
              "6           0         28         65.0       152.0  28.1           13   \n",
              "7           1         34         63.0       158.0  25.2           11   \n",
              "8           0         25         62.0       158.0  24.8           15   \n",
              "9           0         31         58.0       155.0  24.1           15   \n",
              "\n",
              "   Pulse rate(bpm)  RR (breaths/min)  Hb(g/dl)  Cycle(R/I)  ...  Pimples(Y/N)  \\\n",
              "0               74                20      11.7           2  ...             0   \n",
              "1               72                20      11.0           2  ...             0   \n",
              "2               72                18      11.7           4  ...             1   \n",
              "3               78                22      11.4           2  ...             0   \n",
              "4               72                18      12.7           2  ...             0   \n",
              "5               70                18      11.2           2  ...             0   \n",
              "6               74                22      10.5           2  ...             1   \n",
              "7               72                20      11.2           2  ...             1   \n",
              "8               78                22      11.6           2  ...             0   \n",
              "9               72                18      10.5           2  ...             0   \n",
              "\n",
              "   Fast food (Y/N)  Reg.Exercise(Y/N)  BP _Systolic (mmHg)  \\\n",
              "0                0                  0                  120   \n",
              "1                0                  0                  120   \n",
              "2                1                  1                  120   \n",
              "3                0                  0                  120   \n",
              "4                0                  0                  120   \n",
              "5                0                  0                  110   \n",
              "6                0                  0                  110   \n",
              "7                1                  0                  120   \n",
              "8                0                  0                  120   \n",
              "9                0                  0                  120   \n",
              "\n",
              "   BP _Diastolic (mmHg)  Follicle No. (L)  Follicle No. (R)  \\\n",
              "0                    70                 3                 5   \n",
              "1                    80                 7                 6   \n",
              "2                    80                15                 8   \n",
              "3                    80                 1                 3   \n",
              "4                    80                 0                 2   \n",
              "5                    80                 1                 2   \n",
              "6                    80                 6                 8   \n",
              "7                    70                 4                 6   \n",
              "8                    80                 7                 4   \n",
              "9                    80                 8                 9   \n",
              "\n",
              "   Avg. F size (L) (mm)  Avg. F size (R) (mm)  Endometrium (mm)  \n",
              "0                  15.0                  14.0               3.7  \n",
              "1                  15.0                  18.0               7.1  \n",
              "2                  20.0                  21.0               8.0  \n",
              "3                  14.0                  20.0               3.9  \n",
              "4                   0.0                  17.0               5.6  \n",
              "5                  18.0                  19.0               5.7  \n",
              "6                  14.0                  18.0               8.5  \n",
              "7                  18.0                  17.0               7.3  \n",
              "8                  12.0                  17.0               6.2  \n",
              "9                  12.0                  13.0               7.5  \n",
              "\n",
              "[10 rows x 42 columns]"
            ],
            "text/html": [
              "\n",
              "  <div id=\"df-87068017-f36a-4f63-beb1-1e5b459b89ad\">\n",
              "    <div class=\"colab-df-container\">\n",
              "      <div>\n",
              "<style scoped>\n",
              "    .dataframe tbody tr th:only-of-type {\n",
              "        vertical-align: middle;\n",
              "    }\n",
              "\n",
              "    .dataframe tbody tr th {\n",
              "        vertical-align: top;\n",
              "    }\n",
              "\n",
              "    .dataframe thead th {\n",
              "        text-align: right;\n",
              "    }\n",
              "</style>\n",
              "<table border=\"1\" class=\"dataframe\">\n",
              "  <thead>\n",
              "    <tr style=\"text-align: right;\">\n",
              "      <th></th>\n",
              "      <th>PCOS (Y/N)</th>\n",
              "      <th>Age (yrs)</th>\n",
              "      <th>Weight (Kg)</th>\n",
              "      <th>Height(Cm)</th>\n",
              "      <th>BMI</th>\n",
              "      <th>Blood Group</th>\n",
              "      <th>Pulse rate(bpm)</th>\n",
              "      <th>RR (breaths/min)</th>\n",
              "      <th>Hb(g/dl)</th>\n",
              "      <th>Cycle(R/I)</th>\n",
              "      <th>...</th>\n",
              "      <th>Pimples(Y/N)</th>\n",
              "      <th>Fast food (Y/N)</th>\n",
              "      <th>Reg.Exercise(Y/N)</th>\n",
              "      <th>BP _Systolic (mmHg)</th>\n",
              "      <th>BP _Diastolic (mmHg)</th>\n",
              "      <th>Follicle No. (L)</th>\n",
              "      <th>Follicle No. (R)</th>\n",
              "      <th>Avg. F size (L) (mm)</th>\n",
              "      <th>Avg. F size (R) (mm)</th>\n",
              "      <th>Endometrium (mm)</th>\n",
              "    </tr>\n",
              "  </thead>\n",
              "  <tbody>\n",
              "    <tr>\n",
              "      <th>0</th>\n",
              "      <td>0</td>\n",
              "      <td>36</td>\n",
              "      <td>65.0</td>\n",
              "      <td>161.5</td>\n",
              "      <td>24.9</td>\n",
              "      <td>15</td>\n",
              "      <td>74</td>\n",
              "      <td>20</td>\n",
              "      <td>11.7</td>\n",
              "      <td>2</td>\n",
              "      <td>...</td>\n",
              "      <td>0</td>\n",
              "      <td>0</td>\n",
              "      <td>0</td>\n",
              "      <td>120</td>\n",
              "      <td>70</td>\n",
              "      <td>3</td>\n",
              "      <td>5</td>\n",
              "      <td>15.0</td>\n",
              "      <td>14.0</td>\n",
              "      <td>3.7</td>\n",
              "    </tr>\n",
              "    <tr>\n",
              "      <th>1</th>\n",
              "      <td>0</td>\n",
              "      <td>33</td>\n",
              "      <td>58.5</td>\n",
              "      <td>159.0</td>\n",
              "      <td>23.1</td>\n",
              "      <td>13</td>\n",
              "      <td>72</td>\n",
              "      <td>20</td>\n",
              "      <td>11.0</td>\n",
              "      <td>2</td>\n",
              "      <td>...</td>\n",
              "      <td>0</td>\n",
              "      <td>0</td>\n",
              "      <td>0</td>\n",
              "      <td>120</td>\n",
              "      <td>80</td>\n",
              "      <td>7</td>\n",
              "      <td>6</td>\n",
              "      <td>15.0</td>\n",
              "      <td>18.0</td>\n",
              "      <td>7.1</td>\n",
              "    </tr>\n",
              "    <tr>\n",
              "      <th>2</th>\n",
              "      <td>1</td>\n",
              "      <td>25</td>\n",
              "      <td>74.0</td>\n",
              "      <td>152.0</td>\n",
              "      <td>32.0</td>\n",
              "      <td>17</td>\n",
              "      <td>72</td>\n",
              "      <td>18</td>\n",
              "      <td>11.7</td>\n",
              "      <td>4</td>\n",
              "      <td>...</td>\n",
              "      <td>1</td>\n",
              "      <td>1</td>\n",
              "      <td>1</td>\n",
              "      <td>120</td>\n",
              "      <td>80</td>\n",
              "      <td>15</td>\n",
              "      <td>8</td>\n",
              "      <td>20.0</td>\n",
              "      <td>21.0</td>\n",
              "      <td>8.0</td>\n",
              "    </tr>\n",
              "    <tr>\n",
              "      <th>3</th>\n",
              "      <td>0</td>\n",
              "      <td>38</td>\n",
              "      <td>80.5</td>\n",
              "      <td>154.0</td>\n",
              "      <td>33.9</td>\n",
              "      <td>13</td>\n",
              "      <td>78</td>\n",
              "      <td>22</td>\n",
              "      <td>11.4</td>\n",
              "      <td>2</td>\n",
              "      <td>...</td>\n",
              "      <td>0</td>\n",
              "      <td>0</td>\n",
              "      <td>0</td>\n",
              "      <td>120</td>\n",
              "      <td>80</td>\n",
              "      <td>1</td>\n",
              "      <td>3</td>\n",
              "      <td>14.0</td>\n",
              "      <td>20.0</td>\n",
              "      <td>3.9</td>\n",
              "    </tr>\n",
              "    <tr>\n",
              "      <th>4</th>\n",
              "      <td>0</td>\n",
              "      <td>31</td>\n",
              "      <td>52.4</td>\n",
              "      <td>159.0</td>\n",
              "      <td>20.7</td>\n",
              "      <td>17</td>\n",
              "      <td>72</td>\n",
              "      <td>18</td>\n",
              "      <td>12.7</td>\n",
              "      <td>2</td>\n",
              "      <td>...</td>\n",
              "      <td>0</td>\n",
              "      <td>0</td>\n",
              "      <td>0</td>\n",
              "      <td>120</td>\n",
              "      <td>80</td>\n",
              "      <td>0</td>\n",
              "      <td>2</td>\n",
              "      <td>0.0</td>\n",
              "      <td>17.0</td>\n",
              "      <td>5.6</td>\n",
              "    </tr>\n",
              "    <tr>\n",
              "      <th>5</th>\n",
              "      <td>0</td>\n",
              "      <td>25</td>\n",
              "      <td>64.0</td>\n",
              "      <td>156.0</td>\n",
              "      <td>26.3</td>\n",
              "      <td>11</td>\n",
              "      <td>70</td>\n",
              "      <td>18</td>\n",
              "      <td>11.2</td>\n",
              "      <td>2</td>\n",
              "      <td>...</td>\n",
              "      <td>0</td>\n",
              "      <td>0</td>\n",
              "      <td>0</td>\n",
              "      <td>110</td>\n",
              "      <td>80</td>\n",
              "      <td>1</td>\n",
              "      <td>2</td>\n",
              "      <td>18.0</td>\n",
              "      <td>19.0</td>\n",
              "      <td>5.7</td>\n",
              "    </tr>\n",
              "    <tr>\n",
              "      <th>6</th>\n",
              "      <td>0</td>\n",
              "      <td>28</td>\n",
              "      <td>65.0</td>\n",
              "      <td>152.0</td>\n",
              "      <td>28.1</td>\n",
              "      <td>13</td>\n",
              "      <td>74</td>\n",
              "      <td>22</td>\n",
              "      <td>10.5</td>\n",
              "      <td>2</td>\n",
              "      <td>...</td>\n",
              "      <td>1</td>\n",
              "      <td>0</td>\n",
              "      <td>0</td>\n",
              "      <td>110</td>\n",
              "      <td>80</td>\n",
              "      <td>6</td>\n",
              "      <td>8</td>\n",
              "      <td>14.0</td>\n",
              "      <td>18.0</td>\n",
              "      <td>8.5</td>\n",
              "    </tr>\n",
              "    <tr>\n",
              "      <th>7</th>\n",
              "      <td>1</td>\n",
              "      <td>34</td>\n",
              "      <td>63.0</td>\n",
              "      <td>158.0</td>\n",
              "      <td>25.2</td>\n",
              "      <td>11</td>\n",
              "      <td>72</td>\n",
              "      <td>20</td>\n",
              "      <td>11.2</td>\n",
              "      <td>2</td>\n",
              "      <td>...</td>\n",
              "      <td>1</td>\n",
              "      <td>1</td>\n",
              "      <td>0</td>\n",
              "      <td>120</td>\n",
              "      <td>70</td>\n",
              "      <td>4</td>\n",
              "      <td>6</td>\n",
              "      <td>18.0</td>\n",
              "      <td>17.0</td>\n",
              "      <td>7.3</td>\n",
              "    </tr>\n",
              "    <tr>\n",
              "      <th>8</th>\n",
              "      <td>0</td>\n",
              "      <td>25</td>\n",
              "      <td>62.0</td>\n",
              "      <td>158.0</td>\n",
              "      <td>24.8</td>\n",
              "      <td>15</td>\n",
              "      <td>78</td>\n",
              "      <td>22</td>\n",
              "      <td>11.6</td>\n",
              "      <td>2</td>\n",
              "      <td>...</td>\n",
              "      <td>0</td>\n",
              "      <td>0</td>\n",
              "      <td>0</td>\n",
              "      <td>120</td>\n",
              "      <td>80</td>\n",
              "      <td>7</td>\n",
              "      <td>4</td>\n",
              "      <td>12.0</td>\n",
              "      <td>17.0</td>\n",
              "      <td>6.2</td>\n",
              "    </tr>\n",
              "    <tr>\n",
              "      <th>9</th>\n",
              "      <td>0</td>\n",
              "      <td>31</td>\n",
              "      <td>58.0</td>\n",
              "      <td>155.0</td>\n",
              "      <td>24.1</td>\n",
              "      <td>15</td>\n",
              "      <td>72</td>\n",
              "      <td>18</td>\n",
              "      <td>10.5</td>\n",
              "      <td>2</td>\n",
              "      <td>...</td>\n",
              "      <td>0</td>\n",
              "      <td>0</td>\n",
              "      <td>0</td>\n",
              "      <td>120</td>\n",
              "      <td>80</td>\n",
              "      <td>8</td>\n",
              "      <td>9</td>\n",
              "      <td>12.0</td>\n",
              "      <td>13.0</td>\n",
              "      <td>7.5</td>\n",
              "    </tr>\n",
              "  </tbody>\n",
              "</table>\n",
              "<p>10 rows × 42 columns</p>\n",
              "</div>\n",
              "      <button class=\"colab-df-convert\" onclick=\"convertToInteractive('df-87068017-f36a-4f63-beb1-1e5b459b89ad')\"\n",
              "              title=\"Convert this dataframe to an interactive table.\"\n",
              "              style=\"display:none;\">\n",
              "        \n",
              "  <svg xmlns=\"http://www.w3.org/2000/svg\" height=\"24px\"viewBox=\"0 0 24 24\"\n",
              "       width=\"24px\">\n",
              "    <path d=\"M0 0h24v24H0V0z\" fill=\"none\"/>\n",
              "    <path d=\"M18.56 5.44l.94 2.06.94-2.06 2.06-.94-2.06-.94-.94-2.06-.94 2.06-2.06.94zm-11 1L8.5 8.5l.94-2.06 2.06-.94-2.06-.94L8.5 2.5l-.94 2.06-2.06.94zm10 10l.94 2.06.94-2.06 2.06-.94-2.06-.94-.94-2.06-.94 2.06-2.06.94z\"/><path d=\"M17.41 7.96l-1.37-1.37c-.4-.4-.92-.59-1.43-.59-.52 0-1.04.2-1.43.59L10.3 9.45l-7.72 7.72c-.78.78-.78 2.05 0 2.83L4 21.41c.39.39.9.59 1.41.59.51 0 1.02-.2 1.41-.59l7.78-7.78 2.81-2.81c.8-.78.8-2.07 0-2.86zM5.41 20L4 18.59l7.72-7.72 1.47 1.35L5.41 20z\"/>\n",
              "  </svg>\n",
              "      </button>\n",
              "      \n",
              "  <style>\n",
              "    .colab-df-container {\n",
              "      display:flex;\n",
              "      flex-wrap:wrap;\n",
              "      gap: 12px;\n",
              "    }\n",
              "\n",
              "    .colab-df-convert {\n",
              "      background-color: #E8F0FE;\n",
              "      border: none;\n",
              "      border-radius: 50%;\n",
              "      cursor: pointer;\n",
              "      display: none;\n",
              "      fill: #1967D2;\n",
              "      height: 32px;\n",
              "      padding: 0 0 0 0;\n",
              "      width: 32px;\n",
              "    }\n",
              "\n",
              "    .colab-df-convert:hover {\n",
              "      background-color: #E2EBFA;\n",
              "      box-shadow: 0px 1px 2px rgba(60, 64, 67, 0.3), 0px 1px 3px 1px rgba(60, 64, 67, 0.15);\n",
              "      fill: #174EA6;\n",
              "    }\n",
              "\n",
              "    [theme=dark] .colab-df-convert {\n",
              "      background-color: #3B4455;\n",
              "      fill: #D2E3FC;\n",
              "    }\n",
              "\n",
              "    [theme=dark] .colab-df-convert:hover {\n",
              "      background-color: #434B5C;\n",
              "      box-shadow: 0px 1px 3px 1px rgba(0, 0, 0, 0.15);\n",
              "      filter: drop-shadow(0px 1px 2px rgba(0, 0, 0, 0.3));\n",
              "      fill: #FFFFFF;\n",
              "    }\n",
              "  </style>\n",
              "\n",
              "      <script>\n",
              "        const buttonEl =\n",
              "          document.querySelector('#df-87068017-f36a-4f63-beb1-1e5b459b89ad button.colab-df-convert');\n",
              "        buttonEl.style.display =\n",
              "          google.colab.kernel.accessAllowed ? 'block' : 'none';\n",
              "\n",
              "        async function convertToInteractive(key) {\n",
              "          const element = document.querySelector('#df-87068017-f36a-4f63-beb1-1e5b459b89ad');\n",
              "          const dataTable =\n",
              "            await google.colab.kernel.invokeFunction('convertToInteractive',\n",
              "                                                     [key], {});\n",
              "          if (!dataTable) return;\n",
              "\n",
              "          const docLinkHtml = 'Like what you see? Visit the ' +\n",
              "            '<a target=\"_blank\" href=https://colab.research.google.com/notebooks/data_table.ipynb>data table notebook</a>'\n",
              "            + ' to learn more about interactive tables.';\n",
              "          element.innerHTML = '';\n",
              "          dataTable['output_type'] = 'display_data';\n",
              "          await google.colab.output.renderOutput(dataTable, element);\n",
              "          const docLink = document.createElement('div');\n",
              "          docLink.innerHTML = docLinkHtml;\n",
              "          element.appendChild(docLink);\n",
              "        }\n",
              "      </script>\n",
              "    </div>\n",
              "  </div>\n",
              "  "
            ]
          },
          "metadata": {},
          "execution_count": 2
        }
      ],
      "source": [
        "import pandas as pd \n",
        "import seaborn as sns\n",
        "import matplotlib.pyplot as plt\n",
        "\n",
        "data = pd.read_csv(r\"https://raw.githubusercontent.com/shubham404-error/Diabetes_ML_Class-Assignment/main/Testing_data.csv\") \n",
        "data.head(10)\n",
        "# data.info() "
      ]
    },
    {
      "cell_type": "code",
      "source": [
        "data.info()"
      ],
      "metadata": {
        "colab": {
          "base_uri": "https://localhost:8080/"
        },
        "id": "Bol-ruQSL9Ae",
        "outputId": "d1d3d1c4-a565-407e-d810-9d759a9b8936"
      },
      "execution_count": null,
      "outputs": [
        {
          "output_type": "stream",
          "name": "stdout",
          "text": [
            "<class 'pandas.core.frame.DataFrame'>\n",
            "RangeIndex: 109 entries, 0 to 108\n",
            "Data columns (total 42 columns):\n",
            " #   Column                  Non-Null Count  Dtype  \n",
            "---  ------                  --------------  -----  \n",
            " 0   PCOS (Y/N)              109 non-null    int64  \n",
            " 1   Age (yrs)               109 non-null    int64  \n",
            " 2   Weight (Kg)             109 non-null    float64\n",
            " 3   Height(Cm)              109 non-null    float64\n",
            " 4   BMI                     109 non-null    float64\n",
            " 5   Blood Group             109 non-null    int64  \n",
            " 6   Pulse rate(bpm)         109 non-null    int64  \n",
            " 7   RR (breaths/min)        109 non-null    int64  \n",
            " 8   Hb(g/dl)                109 non-null    float64\n",
            " 9   Cycle(R/I)              109 non-null    int64  \n",
            " 10  Cycle length(days)      109 non-null    int64  \n",
            " 11  Marraige Status (Yrs)   109 non-null    float64\n",
            " 12  Pregnant(Y/N)           109 non-null    int64  \n",
            " 13  No. of abortions        109 non-null    int64  \n",
            " 14  I   beta-HCG(mIU/mL)    109 non-null    float64\n",
            " 15  II    beta-HCG(mIU/mL)  109 non-null    float64\n",
            " 16  FSH(mIU/mL)             109 non-null    float64\n",
            " 17  LH(mIU/mL)              109 non-null    float64\n",
            " 18  FSH/LH                  109 non-null    float64\n",
            " 19  Hip(inch)               109 non-null    int64  \n",
            " 20  Waist(inch)             109 non-null    int64  \n",
            " 21  Waist:Hip Ratio         109 non-null    float64\n",
            " 22  TSH (mIU/L)             109 non-null    float64\n",
            " 23  AMH(ng/mL)              109 non-null    float64\n",
            " 24  PRL(ng/mL)              109 non-null    float64\n",
            " 25  Vit D3 (ng/mL)          109 non-null    float64\n",
            " 26  PRG(ng/mL)              109 non-null    float64\n",
            " 27  RBS(mg/dl)              109 non-null    int64  \n",
            " 28  Weight gain(Y/N)        109 non-null    int64  \n",
            " 29  hair growth(Y/N)        109 non-null    int64  \n",
            " 30  Skin darkening (Y/N)    109 non-null    int64  \n",
            " 31  Hair loss(Y/N)          109 non-null    int64  \n",
            " 32  Pimples(Y/N)            109 non-null    int64  \n",
            " 33  Fast food (Y/N)         109 non-null    int64  \n",
            " 34  Reg.Exercise(Y/N)       109 non-null    int64  \n",
            " 35  BP _Systolic (mmHg)     109 non-null    int64  \n",
            " 36  BP _Diastolic (mmHg)    109 non-null    int64  \n",
            " 37  Follicle No. (L)        109 non-null    int64  \n",
            " 38  Follicle No. (R)        109 non-null    int64  \n",
            " 39  Avg. F size (L) (mm)    109 non-null    float64\n",
            " 40  Avg. F size (R) (mm)    109 non-null    float64\n",
            " 41  Endometrium (mm)        109 non-null    float64\n",
            "dtypes: float64(19), int64(23)\n",
            "memory usage: 35.9 KB\n"
          ]
        }
      ]
    },
    {
      "cell_type": "code",
      "source": [
        "data[\"AMH(ng/mL)\"] = pd.to_numeric(data[\"AMH(ng/mL)\"], errors='coerce')\n",
        "data[\"II    beta-HCG(mIU/mL)\"] = pd.to_numeric(data[\"II    beta-HCG(mIU/mL)\"], errors='coerce')\n",
        "data.info()"
      ],
      "metadata": {
        "colab": {
          "base_uri": "https://localhost:8080/"
        },
        "id": "wTaVSNgqb85j",
        "outputId": "8e6f1237-e86d-4166-9eac-94b2885c57f6"
      },
      "execution_count": null,
      "outputs": [
        {
          "output_type": "stream",
          "name": "stdout",
          "text": [
            "<class 'pandas.core.frame.DataFrame'>\n",
            "RangeIndex: 109 entries, 0 to 108\n",
            "Data columns (total 42 columns):\n",
            " #   Column                  Non-Null Count  Dtype  \n",
            "---  ------                  --------------  -----  \n",
            " 0   PCOS (Y/N)              109 non-null    int64  \n",
            " 1   Age (yrs)               109 non-null    int64  \n",
            " 2   Weight (Kg)             109 non-null    float64\n",
            " 3   Height(Cm)              109 non-null    float64\n",
            " 4   BMI                     109 non-null    float64\n",
            " 5   Blood Group             109 non-null    int64  \n",
            " 6   Pulse rate(bpm)         109 non-null    int64  \n",
            " 7   RR (breaths/min)        109 non-null    int64  \n",
            " 8   Hb(g/dl)                109 non-null    float64\n",
            " 9   Cycle(R/I)              109 non-null    int64  \n",
            " 10  Cycle length(days)      109 non-null    int64  \n",
            " 11  Marraige Status (Yrs)   109 non-null    float64\n",
            " 12  Pregnant(Y/N)           109 non-null    int64  \n",
            " 13  No. of abortions        109 non-null    int64  \n",
            " 14  I   beta-HCG(mIU/mL)    109 non-null    float64\n",
            " 15  II    beta-HCG(mIU/mL)  109 non-null    float64\n",
            " 16  FSH(mIU/mL)             109 non-null    float64\n",
            " 17  LH(mIU/mL)              109 non-null    float64\n",
            " 18  FSH/LH                  109 non-null    float64\n",
            " 19  Hip(inch)               109 non-null    int64  \n",
            " 20  Waist(inch)             109 non-null    int64  \n",
            " 21  Waist:Hip Ratio         109 non-null    float64\n",
            " 22  TSH (mIU/L)             109 non-null    float64\n",
            " 23  AMH(ng/mL)              109 non-null    float64\n",
            " 24  PRL(ng/mL)              109 non-null    float64\n",
            " 25  Vit D3 (ng/mL)          109 non-null    float64\n",
            " 26  PRG(ng/mL)              109 non-null    float64\n",
            " 27  RBS(mg/dl)              109 non-null    int64  \n",
            " 28  Weight gain(Y/N)        109 non-null    int64  \n",
            " 29  hair growth(Y/N)        109 non-null    int64  \n",
            " 30  Skin darkening (Y/N)    109 non-null    int64  \n",
            " 31  Hair loss(Y/N)          109 non-null    int64  \n",
            " 32  Pimples(Y/N)            109 non-null    int64  \n",
            " 33  Fast food (Y/N)         109 non-null    int64  \n",
            " 34  Reg.Exercise(Y/N)       109 non-null    int64  \n",
            " 35  BP _Systolic (mmHg)     109 non-null    int64  \n",
            " 36  BP _Diastolic (mmHg)    109 non-null    int64  \n",
            " 37  Follicle No. (L)        109 non-null    int64  \n",
            " 38  Follicle No. (R)        109 non-null    int64  \n",
            " 39  Avg. F size (L) (mm)    109 non-null    float64\n",
            " 40  Avg. F size (R) (mm)    109 non-null    float64\n",
            " 41  Endometrium (mm)        109 non-null    float64\n",
            "dtypes: float64(19), int64(23)\n",
            "memory usage: 35.9 KB\n"
          ]
        }
      ]
    },
    {
      "cell_type": "code",
      "source": [
        "data['PCOS (Y/N)'].value_counts()"
      ],
      "metadata": {
        "colab": {
          "base_uri": "https://localhost:8080/"
        },
        "id": "broP6TipMuMI",
        "outputId": "7aea511c-8441-4a25-fa2b-ba24939d6329"
      },
      "execution_count": null,
      "outputs": [
        {
          "output_type": "execute_result",
          "data": {
            "text/plain": [
              "0    66\n",
              "1    43\n",
              "Name: PCOS (Y/N), dtype: int64"
            ]
          },
          "metadata": {},
          "execution_count": 5
        }
      ]
    },
    {
      "cell_type": "code",
      "source": [
        "\n",
        "sns.countplot(x=data[\"PCOS (Y/N)\"])"
      ],
      "metadata": {
        "colab": {
          "base_uri": "https://localhost:8080/",
          "height": 296
        },
        "id": "6UoDToeHbF_d",
        "outputId": "5d35037d-54af-4138-bd00-6f7cc43750c0"
      },
      "execution_count": null,
      "outputs": [
        {
          "output_type": "execute_result",
          "data": {
            "text/plain": [
              "<AxesSubplot:xlabel='PCOS (Y/N)', ylabel='count'>"
            ]
          },
          "metadata": {},
          "execution_count": 6
        },
        {
          "output_type": "display_data",
          "data": {
            "text/plain": [
              "<Figure size 432x288 with 1 Axes>"
            ],
            "image/png": "[encoded data removed]"
          },
          "metadata": {
            "needs_background": "light"
          }
        }
      ]
    },
    {
      "cell_type": "code",
      "source": [
        "\n",
        "X=data.drop([\"PCOS (Y/N)\"],axis = 1)\n",
        "y=data[\"PCOS (Y/N)\"]"
      ],
      "metadata": {
        "id": "Fbowcm9xM8V2"
      },
      "execution_count": null,
      "outputs": []
    },
    {
      "cell_type": "markdown",
      "source": [
        "##Importing Libraries"
      ],
      "metadata": {
        "id": "OA-j69fnaVHq"
      }
    },
    {
      "cell_type": "code",
      "source": [
        "import sklearn\n",
        "from sklearn.preprocessing import PowerTransformer\n",
        "from sklearn.model_selection import train_test_split\n",
        "from sklearn.preprocessing import MinMaxScaler\n",
        "from sklearn.preprocessing import LabelEncoder\n",
        "from sklearn.metrics import r2_score\n",
        "from sklearn.metrics import mean_squared_error\n",
        "from sklearn.tree import DecisionTreeRegressor\n",
        "import math\n",
        "from sklearn.svm import SVC\n",
        "from sklearn.metrics import confusion_matrix\n",
        "# from sklearn.metrics import plot_confusion_matrix\n",
        "from sklearn.metrics import classification_report\n",
        "from sklearn.metrics import accuracy_score\n",
        "from sklearn.metrics import roc_auc_score\n",
        "from sklearn.metrics import roc_curve\n",
        "from sklearn.linear_model import LogisticRegression\n",
        "from sklearn.ensemble import RandomForestClassifier\n",
        "from sklearn.model_selection import cross_val_score\n",
        "from sklearn.preprocessing import StandardScaler\n",
        "from sklearn.preprocessing import MinMaxScaler"
      ],
      "metadata": {
        "id": "kQV_8YD9NItW"
      },
      "execution_count": null,
      "outputs": []
    },
    {
      "cell_type": "markdown",
      "source": [
        "##Feature Scaling"
      ],
      "metadata": {
        "id": "nSJzDjE7aCzm"
      }
    },
    {
      "cell_type": "code",
      "source": [
        "sscaler = MinMaxScaler() #helps us scale the dataset. This makes it easy for the model to train\n",
        "cols = X.columns\n",
        "x_scaled = sscaler.fit_transform(X)\n",
        "X_scaled = pd.DataFrame(x_scaled, columns = cols)\n",
        "X_scaled"
      ],
      "metadata": {
        "colab": {
          "base_uri": "https://localhost:8080/",
          "height": 485
        },
        "id": "0_u20spkO2Cc",
        "outputId": "31e9c5e1-bb74-4d5a-c00d-7cbd4af5ff95"
      },
      "execution_count": null,
      "outputs": [
        {
          "output_type": "execute_result",
          "data": {
            "text/plain": [
              "     Age (yrs)  Weight (Kg)  Height(Cm)       BMI  Blood Group  \\\n",
              "0     0.625000     0.458333    0.603448  0.447154     0.666667   \n",
              "1     0.500000     0.368056    0.517241  0.373984     0.333333   \n",
              "2     0.166667     0.583333    0.275862  0.735772     1.000000   \n",
              "3     0.708333     0.673611    0.344828  0.813008     0.333333   \n",
              "4     0.416667     0.283333    0.517241  0.276423     1.000000   \n",
              "..         ...          ...         ...       ...          ...   \n",
              "104   0.625000     0.309722    0.206897  0.414634     0.000000   \n",
              "105   0.000000     0.319444    0.499862  0.325203     0.833333   \n",
              "106   0.458333     0.458333    0.920276  0.341463     0.833333   \n",
              "107   0.125000     0.333333    0.344828  0.394309     1.000000   \n",
              "108   0.791667     0.638889    0.379310  0.756098     0.666667   \n",
              "\n",
              "     Pulse rate(bpm)  RR (breaths/min)  Hb(g/dl)  Cycle(R/I)  \\\n",
              "0            0.87500          0.666667  0.653061         0.0   \n",
              "1            0.84375          0.666667  0.510204         0.0   \n",
              "2            0.84375          0.333333  0.653061         1.0   \n",
              "3            0.93750          1.000000  0.591837         0.0   \n",
              "4            0.84375          0.333333  0.857143         0.0   \n",
              "..               ...               ...       ...         ...   \n",
              "104          0.93750          0.666667  0.306122         0.0   \n",
              "105          0.84375          0.333333  0.612245         0.0   \n",
              "106          0.84375          0.333333  0.408163         0.0   \n",
              "107          0.84375          0.333333  0.408163         0.0   \n",
              "108          0.87500          0.666667  0.551020         0.0   \n",
              "\n",
              "     Cycle length(days)  ...  Pimples(Y/N)  Fast food (Y/N)  \\\n",
              "0              0.333333  ...           0.0              0.0   \n",
              "1              0.333333  ...           0.0              0.0   \n",
              "2              0.000000  ...           1.0              1.0   \n",
              "3              0.333333  ...           0.0              0.0   \n",
              "4              0.333333  ...           0.0              0.0   \n",
              "..                  ...  ...           ...              ...   \n",
              "104            0.333333  ...           0.0              0.0   \n",
              "105            0.333333  ...           0.0              0.0   \n",
              "106            0.333333  ...           0.0              1.0   \n",
              "107            0.333333  ...           0.0              0.0   \n",
              "108            0.333333  ...           1.0              0.0   \n",
              "\n",
              "     Reg.Exercise(Y/N)  BP _Systolic (mmHg)  BP _Diastolic (mmHg)  \\\n",
              "0                  0.0                 0.50                   0.0   \n",
              "1                  0.0                 0.50                   1.0   \n",
              "2                  1.0                 0.50                   1.0   \n",
              "3                  0.0                 0.50                   1.0   \n",
              "4                  0.0                 0.50                   1.0   \n",
              "..                 ...                  ...                   ...   \n",
              "104                0.0                 0.25                   0.0   \n",
              "105                0.0                 0.50                   1.0   \n",
              "106                0.0                 0.25                   0.0   \n",
              "107                0.0                 0.25                   0.0   \n",
              "108                0.0                 0.50                   1.0   \n",
              "\n",
              "     Follicle No. (L)  Follicle No. (R)  Avg. F size (L) (mm)  \\\n",
              "0              0.1875              0.25              0.681818   \n",
              "1              0.4375              0.30              0.681818   \n",
              "2              0.9375              0.40              0.909091   \n",
              "3              0.0625              0.15              0.636364   \n",
              "4              0.0000              0.10              0.000000   \n",
              "..                ...               ...                   ...   \n",
              "104            0.0625              0.05              0.727273   \n",
              "105            0.0625              0.15              0.318182   \n",
              "106            0.5625              0.35              0.818182   \n",
              "107            0.3125              0.20              0.863636   \n",
              "108            0.5000              0.50              0.863636   \n",
              "\n",
              "     Avg. F size (R) (mm)  Endometrium (mm)  \n",
              "0                0.636364          0.000000  \n",
              "1                0.818182          0.237762  \n",
              "2                0.954545          0.300699  \n",
              "3                0.909091          0.013986  \n",
              "4                0.772727          0.132867  \n",
              "..                    ...               ...  \n",
              "104              0.863636          0.377622  \n",
              "105              0.863636          0.335664  \n",
              "106              0.818182          0.370629  \n",
              "107              0.909091          0.153846  \n",
              "108              0.954545          0.300699  \n",
              "\n",
              "[109 rows x 41 columns]"
            ],
            "text/html": [
              "\n",
              "  <div id=\"df-a1f9fc35-487c-4a31-a2ac-d8ccc3164d95\">\n",
              "    <div class=\"colab-df-container\">\n",
              "      <div>\n",
              "<style scoped>\n",
              "    .dataframe tbody tr th:only-of-type {\n",
              "        vertical-align: middle;\n",
              "    }\n",
              "\n",
              "    .dataframe tbody tr th {\n",
              "        vertical-align: top;\n",
              "    }\n",
              "\n",
              "    .dataframe thead th {\n",
              "        text-align: right;\n",
              "    }\n",
              "</style>\n",
              "<table border=\"1\" class=\"dataframe\">\n",
              "  <thead>\n",
              "    <tr style=\"text-align: right;\">\n",
              "      <th></th>\n",
              "      <th>Age (yrs)</th>\n",
              "      <th>Weight (Kg)</th>\n",
              "      <th>Height(Cm)</th>\n",
              "      <th>BMI</th>\n",
              "      <th>Blood Group</th>\n",
              "      <th>Pulse rate(bpm)</th>\n",
              "      <th>RR (breaths/min)</th>\n",
              "      <th>Hb(g/dl)</th>\n",
              "      <th>Cycle(R/I)</th>\n",
              "      <th>Cycle length(days)</th>\n",
              "      <th>...</th>\n",
              "      <th>Pimples(Y/N)</th>\n",
              "      <th>Fast food (Y/N)</th>\n",
              "      <th>Reg.Exercise(Y/N)</th>\n",
              "      <th>BP _Systolic (mmHg)</th>\n",
              "      <th>BP _Diastolic (mmHg)</th>\n",
              "      <th>Follicle No. (L)</th>\n",
              "      <th>Follicle No. (R)</th>\n",
              "      <th>Avg. F size (L) (mm)</th>\n",
              "      <th>Avg. F size (R) (mm)</th>\n",
              "      <th>Endometrium (mm)</th>\n",
              "    </tr>\n",
              "  </thead>\n",
              "  <tbody>\n",
              "    <tr>\n",
              "      <th>0</th>\n",
              "      <td>0.625000</td>\n",
              "      <td>0.458333</td>\n",
              "      <td>0.603448</td>\n",
              "      <td>0.447154</td>\n",
              "      <td>0.666667</td>\n",
              "      <td>0.87500</td>\n",
              "      <td>0.666667</td>\n",
              "      <td>0.653061</td>\n",
              "      <td>0.0</td>\n",
              "      <td>0.333333</td>\n",
              "      <td>...</td>\n",
              "      <td>0.0</td>\n",
              "      <td>0.0</td>\n",
              "      <td>0.0</td>\n",
              "      <td>0.50</td>\n",
              "      <td>0.0</td>\n",
              "      <td>0.1875</td>\n",
              "      <td>0.25</td>\n",
              "      <td>0.681818</td>\n",
              "      <td>0.636364</td>\n",
              "      <td>0.000000</td>\n",
              "    </tr>\n",
              "    <tr>\n",
              "      <th>1</th>\n",
              "      <td>0.500000</td>\n",
              "      <td>0.368056</td>\n",
              "      <td>0.517241</td>\n",
              "      <td>0.373984</td>\n",
              "      <td>0.333333</td>\n",
              "      <td>0.84375</td>\n",
              "      <td>0.666667</td>\n",
              "      <td>0.510204</td>\n",
              "      <td>0.0</td>\n",
              "      <td>0.333333</td>\n",
              "      <td>...</td>\n",
              "      <td>0.0</td>\n",
              "      <td>0.0</td>\n",
              "      <td>0.0</td>\n",
              "      <td>0.50</td>\n",
              "      <td>1.0</td>\n",
              "      <td>0.4375</td>\n",
              "      <td>0.30</td>\n",
              "      <td>0.681818</td>\n",
              "      <td>0.818182</td>\n",
              "      <td>0.237762</td>\n",
              "    </tr>\n",
              "    <tr>\n",
              "      <th>2</th>\n",
              "      <td>0.166667</td>\n",
              "      <td>0.583333</td>\n",
              "      <td>0.275862</td>\n",
              "      <td>0.735772</td>\n",
              "      <td>1.000000</td>\n",
              "      <td>0.84375</td>\n",
              "      <td>0.333333</td>\n",
              "      <td>0.653061</td>\n",
              "      <td>1.0</td>\n",
              "      <td>0.000000</td>\n",
              "      <td>...</td>\n",
              "      <td>1.0</td>\n",
              "      <td>1.0</td>\n",
              "      <td>1.0</td>\n",
              "      <td>0.50</td>\n",
              "      <td>1.0</td>\n",
              "      <td>0.9375</td>\n",
              "      <td>0.40</td>\n",
              "      <td>0.909091</td>\n",
              "      <td>0.954545</td>\n",
              "      <td>0.300699</td>\n",
              "    </tr>\n",
              "    <tr>\n",
              "      <th>3</th>\n",
              "      <td>0.708333</td>\n",
              "      <td>0.673611</td>\n",
              "      <td>0.344828</td>\n",
              "      <td>0.813008</td>\n",
              "      <td>0.333333</td>\n",
              "      <td>0.93750</td>\n",
              "      <td>1.000000</td>\n",
              "      <td>0.591837</td>\n",
              "      <td>0.0</td>\n",
              "      <td>0.333333</td>\n",
              "      <td>...</td>\n",
              "      <td>0.0</td>\n",
              "      <td>0.0</td>\n",
              "      <td>0.0</td>\n",
              "      <td>0.50</td>\n",
              "      <td>1.0</td>\n",
              "      <td>0.0625</td>\n",
              "      <td>0.15</td>\n",
              "      <td>0.636364</td>\n",
              "      <td>0.909091</td>\n",
              "      <td>0.013986</td>\n",
              "    </tr>\n",
              "    <tr>\n",
              "      <th>4</th>\n",
              "      <td>0.416667</td>\n",
              "      <td>0.283333</td>\n",
              "      <td>0.517241</td>\n",
              "      <td>0.276423</td>\n",
              "      <td>1.000000</td>\n",
              "      <td>0.84375</td>\n",
              "      <td>0.333333</td>\n",
              "      <td>0.857143</td>\n",
              "      <td>0.0</td>\n",
              "      <td>0.333333</td>\n",
              "      <td>...</td>\n",
              "      <td>0.0</td>\n",
              "      <td>0.0</td>\n",
              "      <td>0.0</td>\n",
              "      <td>0.50</td>\n",
              "      <td>1.0</td>\n",
              "      <td>0.0000</td>\n",
              "      <td>0.10</td>\n",
              "      <td>0.000000</td>\n",
              "      <td>0.772727</td>\n",
              "      <td>0.132867</td>\n",
              "    </tr>\n",
              "    <tr>\n",
              "      <th>...</th>\n",
              "      <td>...</td>\n",
              "      <td>...</td>\n",
              "      <td>...</td>\n",
              "      <td>...</td>\n",
              "      <td>...</td>\n",
              "      <td>...</td>\n",
              "      <td>...</td>\n",
              "      <td>...</td>\n",
              "      <td>...</td>\n",
              "      <td>...</td>\n",
              "      <td>...</td>\n",
              "      <td>...</td>\n",
              "      <td>...</td>\n",
              "      <td>...</td>\n",
              "      <td>...</td>\n",
              "      <td>...</td>\n",
              "      <td>...</td>\n",
              "      <td>...</td>\n",
              "      <td>...</td>\n",
              "      <td>...</td>\n",
              "      <td>...</td>\n",
              "    </tr>\n",
              "    <tr>\n",
              "      <th>104</th>\n",
              "      <td>0.625000</td>\n",
              "      <td>0.309722</td>\n",
              "      <td>0.206897</td>\n",
              "      <td>0.414634</td>\n",
              "      <td>0.000000</td>\n",
              "      <td>0.93750</td>\n",
              "      <td>0.666667</td>\n",
              "      <td>0.306122</td>\n",
              "      <td>0.0</td>\n",
              "      <td>0.333333</td>\n",
              "      <td>...</td>\n",
              "      <td>0.0</td>\n",
              "      <td>0.0</td>\n",
              "      <td>0.0</td>\n",
              "      <td>0.25</td>\n",
              "      <td>0.0</td>\n",
              "      <td>0.0625</td>\n",
              "      <td>0.05</td>\n",
              "      <td>0.727273</td>\n",
              "      <td>0.863636</td>\n",
              "      <td>0.377622</td>\n",
              "    </tr>\n",
              "    <tr>\n",
              "      <th>105</th>\n",
              "      <td>0.000000</td>\n",
              "      <td>0.319444</td>\n",
              "      <td>0.499862</td>\n",
              "      <td>0.325203</td>\n",
              "      <td>0.833333</td>\n",
              "      <td>0.84375</td>\n",
              "      <td>0.333333</td>\n",
              "      <td>0.612245</td>\n",
              "      <td>0.0</td>\n",
              "      <td>0.333333</td>\n",
              "      <td>...</td>\n",
              "      <td>0.0</td>\n",
              "      <td>0.0</td>\n",
              "      <td>0.0</td>\n",
              "      <td>0.50</td>\n",
              "      <td>1.0</td>\n",
              "      <td>0.0625</td>\n",
              "      <td>0.15</td>\n",
              "      <td>0.318182</td>\n",
              "      <td>0.863636</td>\n",
              "      <td>0.335664</td>\n",
              "    </tr>\n",
              "    <tr>\n",
              "      <th>106</th>\n",
              "      <td>0.458333</td>\n",
              "      <td>0.458333</td>\n",
              "      <td>0.920276</td>\n",
              "      <td>0.341463</td>\n",
              "      <td>0.833333</td>\n",
              "      <td>0.84375</td>\n",
              "      <td>0.333333</td>\n",
              "      <td>0.408163</td>\n",
              "      <td>0.0</td>\n",
              "      <td>0.333333</td>\n",
              "      <td>...</td>\n",
              "      <td>0.0</td>\n",
              "      <td>1.0</td>\n",
              "      <td>0.0</td>\n",
              "      <td>0.25</td>\n",
              "      <td>0.0</td>\n",
              "      <td>0.5625</td>\n",
              "      <td>0.35</td>\n",
              "      <td>0.818182</td>\n",
              "      <td>0.818182</td>\n",
              "      <td>0.370629</td>\n",
              "    </tr>\n",
              "    <tr>\n",
              "      <th>107</th>\n",
              "      <td>0.125000</td>\n",
              "      <td>0.333333</td>\n",
              "      <td>0.344828</td>\n",
              "      <td>0.394309</td>\n",
              "      <td>1.000000</td>\n",
              "      <td>0.84375</td>\n",
              "      <td>0.333333</td>\n",
              "      <td>0.408163</td>\n",
              "      <td>0.0</td>\n",
              "      <td>0.333333</td>\n",
              "      <td>...</td>\n",
              "      <td>0.0</td>\n",
              "      <td>0.0</td>\n",
              "      <td>0.0</td>\n",
              "      <td>0.25</td>\n",
              "      <td>0.0</td>\n",
              "      <td>0.3125</td>\n",
              "      <td>0.20</td>\n",
              "      <td>0.863636</td>\n",
              "      <td>0.909091</td>\n",
              "      <td>0.153846</td>\n",
              "    </tr>\n",
              "    <tr>\n",
              "      <th>108</th>\n",
              "      <td>0.791667</td>\n",
              "      <td>0.638889</td>\n",
              "      <td>0.379310</td>\n",
              "      <td>0.756098</td>\n",
              "      <td>0.666667</td>\n",
              "      <td>0.87500</td>\n",
              "      <td>0.666667</td>\n",
              "      <td>0.551020</td>\n",
              "      <td>0.0</td>\n",
              "      <td>0.333333</td>\n",
              "      <td>...</td>\n",
              "      <td>1.0</td>\n",
              "      <td>0.0</td>\n",
              "      <td>0.0</td>\n",
              "      <td>0.50</td>\n",
              "      <td>1.0</td>\n",
              "      <td>0.5000</td>\n",
              "      <td>0.50</td>\n",
              "      <td>0.863636</td>\n",
              "      <td>0.954545</td>\n",
              "      <td>0.300699</td>\n",
              "    </tr>\n",
              "  </tbody>\n",
              "</table>\n",
              "<p>109 rows × 41 columns</p>\n",
              "</div>\n",
              "      <button class=\"colab-df-convert\" onclick=\"convertToInteractive('df-a1f9fc35-487c-4a31-a2ac-d8ccc3164d95')\"\n",
              "              title=\"Convert this dataframe to an interactive table.\"\n",
              "              style=\"display:none;\">\n",
              "        \n",
              "  <svg xmlns=\"http://www.w3.org/2000/svg\" height=\"24px\"viewBox=\"0 0 24 24\"\n",
              "       width=\"24px\">\n",
              "    <path d=\"M0 0h24v24H0V0z\" fill=\"none\"/>\n",
              "    <path d=\"M18.56 5.44l.94 2.06.94-2.06 2.06-.94-2.06-.94-.94-2.06-.94 2.06-2.06.94zm-11 1L8.5 8.5l.94-2.06 2.06-.94-2.06-.94L8.5 2.5l-.94 2.06-2.06.94zm10 10l.94 2.06.94-2.06 2.06-.94-2.06-.94-.94-2.06-.94 2.06-2.06.94z\"/><path d=\"M17.41 7.96l-1.37-1.37c-.4-.4-.92-.59-1.43-.59-.52 0-1.04.2-1.43.59L10.3 9.45l-7.72 7.72c-.78.78-.78 2.05 0 2.83L4 21.41c.39.39.9.59 1.41.59.51 0 1.02-.2 1.41-.59l7.78-7.78 2.81-2.81c.8-.78.8-2.07 0-2.86zM5.41 20L4 18.59l7.72-7.72 1.47 1.35L5.41 20z\"/>\n",
              "  </svg>\n",
              "      </button>\n",
              "      \n",
              "  <style>\n",
              "    .colab-df-container {\n",
              "      display:flex;\n",
              "      flex-wrap:wrap;\n",
              "      gap: 12px;\n",
              "    }\n",
              "\n",
              "    .colab-df-convert {\n",
              "      background-color: #E8F0FE;\n",
              "      border: none;\n",
              "      border-radius: 50%;\n",
              "      cursor: pointer;\n",
              "      display: none;\n",
              "      fill: #1967D2;\n",
              "      height: 32px;\n",
              "      padding: 0 0 0 0;\n",
              "      width: 32px;\n",
              "    }\n",
              "\n",
              "    .colab-df-convert:hover {\n",
              "      background-color: #E2EBFA;\n",
              "      box-shadow: 0px 1px 2px rgba(60, 64, 67, 0.3), 0px 1px 3px 1px rgba(60, 64, 67, 0.15);\n",
              "      fill: #174EA6;\n",
              "    }\n",
              "\n",
              "    [theme=dark] .colab-df-convert {\n",
              "      background-color: #3B4455;\n",
              "      fill: #D2E3FC;\n",
              "    }\n",
              "\n",
              "    [theme=dark] .colab-df-convert:hover {\n",
              "      background-color: #434B5C;\n",
              "      box-shadow: 0px 1px 3px 1px rgba(0, 0, 0, 0.15);\n",
              "      filter: drop-shadow(0px 1px 2px rgba(0, 0, 0, 0.3));\n",
              "      fill: #FFFFFF;\n",
              "    }\n",
              "  </style>\n",
              "\n",
              "      <script>\n",
              "        const buttonEl =\n",
              "          document.querySelector('#df-a1f9fc35-487c-4a31-a2ac-d8ccc3164d95 button.colab-df-convert');\n",
              "        buttonEl.style.display =\n",
              "          google.colab.kernel.accessAllowed ? 'block' : 'none';\n",
              "\n",
              "        async function convertToInteractive(key) {\n",
              "          const element = document.querySelector('#df-a1f9fc35-487c-4a31-a2ac-d8ccc3164d95');\n",
              "          const dataTable =\n",
              "            await google.colab.kernel.invokeFunction('convertToInteractive',\n",
              "                                                     [key], {});\n",
              "          if (!dataTable) return;\n",
              "\n",
              "          const docLinkHtml = 'Like what you see? Visit the ' +\n",
              "            '<a target=\"_blank\" href=https://colab.research.google.com/notebooks/data_table.ipynb>data table notebook</a>'\n",
              "            + ' to learn more about interactive tables.';\n",
              "          element.innerHTML = '';\n",
              "          dataTable['output_type'] = 'display_data';\n",
              "          await google.colab.output.renderOutput(dataTable, element);\n",
              "          const docLink = document.createElement('div');\n",
              "          docLink.innerHTML = docLinkHtml;\n",
              "          element.appendChild(docLink);\n",
              "        }\n",
              "      </script>\n",
              "    </div>\n",
              "  </div>\n",
              "  "
            ]
          },
          "metadata": {},
          "execution_count": 9
        }
      ]
    },
    {
      "cell_type": "code",
      "source": [
        "X_train,X_test, y_train, y_test = train_test_split(X , y, test_size=0.2)"
      ],
      "metadata": {
        "id": "UHsm8GwCNV4w"
      },
      "execution_count": null,
      "outputs": []
    },
    {
      "cell_type": "markdown",
      "source": [
        "##Random Forest Classifier\n",
        "\n",
        "\n",
        "\n",
        "> Random forest is a supervised ensemble learning algorithm that is used for both classifications as well as regression problems. But however, it is mainly used for classification problems. As we know that a forest is made up of trees and more trees mean more robust forest. Similarly, the random forest algorithm creates decision trees on data samples and then gets the prediction from each of them and finally selects the best solution by means of voting. It is an ensemble method that is better than a single decision tree because it reduces the over-fitting by averaging the result.\n",
        "\n"
      ],
      "metadata": {
        "id": "MoKAbrc0YfRE"
      }
    },
    {
      "cell_type": "code",
      "source": [
        "rfc = RandomForestClassifier(n_jobs=-1,n_estimators=150,max_features='sqrt',min_samples_leaf=10) #creates a Random forest model\n",
        "rfc.fit(X_train, y_train) #trains model on data\n",
        "pred_rfc = rfc.predict(X_test) #prediction\n",
        "accuracy = accuracy_score(y_test, pred_rfc)\n",
        "print(accuracy)"
      ],
      "metadata": {
        "colab": {
          "base_uri": "https://localhost:8080/"
        },
        "id": "9KJv8f6sN9yP",
        "outputId": "e6a65c48-0704-4da1-aae4-672b7fd246d8"
      },
      "execution_count": null,
      "outputs": [
        {
          "output_type": "stream",
          "name": "stdout",
          "text": [
            "0.8181818181818182\n"
          ]
        }
      ]
    },
    {
      "cell_type": "markdown",
      "source": [
        "## Evaluation metrics - Random Forest Classifier"
      ],
      "metadata": {
        "id": "Is_gFGGteSqU"
      }
    },
    {
      "cell_type": "code",
      "source": [
        "from sklearn.metrics import confusion_matrix\n",
        "from sklearn.metrics import accuracy_score\n",
        "from sklearn.metrics import precision_score\n",
        "from sklearn.metrics import recall_score\n",
        "from sklearn.metrics import f1_score\n",
        "from sklearn import metrics\n",
        "\n",
        "\n",
        "print('Confusion matrix :',confusion_matrix(y_test,pred_rfc))\n",
        "print('Accuracy score :', accuracy_score(y_test,pred_rfc))\n",
        "print('Precision Score :', precision_score(y_test,pred_rfc,pos_label=1,average='macro'))\n",
        "print('Recall Score :', recall_score(y_test,pred_rfc,pos_label=1,average='macro'))\n",
        "fpr, tpr, thresholds = metrics.roc_curve(y_test,pred_rfc, pos_label=1)\n",
        "print('fpr :', fpr)\n",
        "print('tpr :', tpr)\n",
        "print('thresholds :', thresholds)\n",
        "auc = metrics.auc(fpr, tpr)\n",
        "print('auc :', auc)\n",
        "\n",
        "plt.plot(fpr,tpr, \"k--\", label=\"chance level (AUC)\")\n",
        "plt.axis(\"square\")\n",
        "plt.xlabel(\"False Positive Rate\")\n",
        "plt.ylabel(\"True Positive Rate\")\n",
        "plt.legend()\n",
        "plt.show()\n"
      ],
      "metadata": {
        "colab": {
          "base_uri": "https://localhost:8080/",
          "height": 435
        },
        "id": "13YhI8uCXhNj",
        "outputId": "466a17e9-a54a-4b67-ac32-de52bcecbc4d"
      },
      "execution_count": null,
      "outputs": [
        {
          "output_type": "stream",
          "name": "stdout",
          "text": [
            "Confusion matrix : [[11  0]\n",
            " [ 4  7]]\n",
            "Accuracy score : 0.8181818181818182\n",
            "Precision Score : 0.8666666666666667\n",
            "Recall Score : 0.8181818181818181\n",
            "fpr : [0. 0. 1.]\n",
            "tpr : [0.         0.63636364 1.        ]\n",
            "thresholds : [2 1 0]\n",
            "auc : 0.8181818181818181\n"
          ]
        },
        {
          "output_type": "display_data",
          "data": {
            "text/plain": [
              "<Figure size 432x288 with 1 Axes>"
            ],
            "image/png": "[encoded data removed]"
          },
          "metadata": {
            "needs_background": "light"
          }
        }
      ]
    },
    {
      "cell_type": "code",
      "source": [
        "classi_report = classification_report(y_test, pred_rfc)\n",
        "print(classi_report)"
      ],
      "metadata": {
        "colab": {
          "base_uri": "https://localhost:8080/"
        },
        "id": "1Pr874gXdSV8",
        "outputId": "1b42c5a4-5715-493f-a23e-aea3726269bc"
      },
      "execution_count": null,
      "outputs": [
        {
          "output_type": "stream",
          "name": "stdout",
          "text": [
            "              precision    recall  f1-score   support\n",
            "\n",
            "           0       0.73      1.00      0.85        11\n",
            "           1       1.00      0.64      0.78        11\n",
            "\n",
            "    accuracy                           0.82        22\n",
            "   macro avg       0.87      0.82      0.81        22\n",
            "weighted avg       0.87      0.82      0.81        22\n",
            "\n"
          ]
        }
      ]
    },
    {
      "cell_type": "markdown",
      "source": [
        "##XGBoost\n",
        "\n",
        "> XGBoost (eXtreme Gradient Boosting) is an implementation of Gradient Boosted decision trees. This library was written in C++. It is a type of Software library that was designed basically to improve speed and model performance.\n",
        "\n",
        "\n",
        "\n",
        "> In this algorithm, decision trees are created in sequential form. Weights play an important role in XGBoost. Weights are assigned to all the independent variables which are then fed into the decision tree which predicts results. The weight of variables predicted wrong by the tree is increased and the variables are then fed to the second decision tree. These individual classifiers/predictors then ensemble to give a strong and more precise model. It can work on regression, classification, ranking, and user-defined prediction problems.\n",
        "\n",
        "\n",
        "\n",
        "\n",
        "\n"
      ],
      "metadata": {
        "id": "wFdtGj-pYWvB"
      }
    },
    {
      "cell_type": "code",
      "source": [
        "import xgboost as xgb\n",
        "\n",
        "xgb_cl = xgb.XGBClassifier(learning_rate = 0.001, gamma = 0.03, max_depth = 20, subsample = 0.5 )\n",
        "xgb_cl.fit(X_train, y_train)\n",
        "\n",
        "# Predict\n",
        "preds = xgb_cl.predict(X_test)\n",
        "\n",
        "# Score\n",
        "accuracy_score(y_test, preds)"
      ],
      "metadata": {
        "colab": {
          "base_uri": "https://localhost:8080/"
        },
        "id": "-I9VMKlodcRw",
        "outputId": "40b268f3-cda1-4638-edf2-7f170bb02311"
      },
      "execution_count": null,
      "outputs": [
        {
          "output_type": "execute_result",
          "data": {
            "text/plain": [
              "0.8636363636363636"
            ]
          },
          "metadata": {},
          "execution_count": 14
        }
      ]
    },
    {
      "cell_type": "code",
      "source": [
        "rfc = RandomForestClassifier(n_jobs=-1,n_estimators=150,max_features='sqrt',min_samples_leaf=10)\n",
        "xgb = xgb.XGBClassifier(learning_rate = 0.001, gamma = 0.03, max_depth = 20, subsample = 0.5)\n",
        "l = [('rf',rfc), ('xgb', xgb)]\n",
        "from sklearn.ensemble import StackingClassifier\n",
        "stack_model = StackingClassifier( estimators = l)\n",
        "score = cross_val_score(stack_model,X_scaled,y,cv = 5,scoring = 'accuracy')"
      ],
      "metadata": {
        "id": "DpBIkJOtdgjg"
      },
      "execution_count": null,
      "outputs": []
    },
    {
      "cell_type": "code",
      "source": [
        "print(score)"
      ],
      "metadata": {
        "id": "Ie0p9WKJd1S-",
        "outputId": "7ccce4e6-451e-420d-8924-1b1b8a8dd992",
        "colab": {
          "base_uri": "https://localhost:8080/"
        }
      },
      "execution_count": null,
      "outputs": [
        {
          "output_type": "stream",
          "name": "stdout",
          "text": [
            "[0.95454545 0.95454545 0.77272727 0.95454545 0.85714286]\n"
          ]
        }
      ]
    },
    {
      "cell_type": "code",
      "source": [
        "import warnings\n",
        "import matplotlib.pyplot as plt\n",
        "import seaborn as sns\n",
        "from sklearn.model_selection import train_test_split\n",
        "from sklearn.neural_network import MLPClassifier\n",
        "warnings.filterwarnings('ignore')\n",
        "\n",
        "#fitting logistic regression to training set\n",
        "# model1 = Perceptron(eta0=1.0,max_iter=1000,tol=1e-3,random_state=42)\n",
        "model1 = MLPClassifier(random_state=1, max_iter=300).fit(X_train, y_train)\n",
        "model1.fit(X_train,y_train)\n",
        "#prediction\n",
        "prediction1 = model1.predict(X_test)"
      ],
      "metadata": {
        "id": "wOOjm5DpDfwt"
      },
      "execution_count": null,
      "outputs": []
    },
    {
      "cell_type": "markdown",
      "source": [
        "## Evaluation metrics - XGBoost"
      ],
      "metadata": {
        "id": "gAFo6tHsd0YL"
      }
    },
    {
      "cell_type": "code",
      "source": [
        "from sklearn.metrics import confusion_matrix\n",
        "from sklearn.metrics import accuracy_score\n",
        "from sklearn.metrics import precision_score\n",
        "from sklearn.metrics import recall_score\n",
        "from sklearn.metrics import f1_score\n",
        "from sklearn import metrics\n",
        "\n",
        "\n",
        "print('Confusion matrix :',confusion_matrix(y_test,prediction1))\n",
        "print('Accuracy score :', accuracy_score(y_test,prediction1))\n",
        "print('Precision Score :', precision_score(y_test,prediction1,pos_label=1,average='macro'))\n",
        "print('Recall Score :', recall_score(y_test,prediction1,pos_label=1,average='macro'))\n",
        "fpr, tpr, thresholds = metrics.roc_curve(y_test, prediction1, pos_label=1)\n",
        "print('fpr :', fpr)\n",
        "print('tpr :', tpr)\n",
        "print('thresholds :', thresholds)\n",
        "auc = metrics.auc(fpr, tpr)\n",
        "print('auc :', auc)\n",
        "\n",
        "plt.plot(fpr,tpr, \"k--\", label=\"chance level (AUC)\")\n",
        "plt.axis(\"square\")\n",
        "plt.xlabel(\"False Positive Rate\")\n",
        "plt.ylabel(\"True Positive Rate\")\n",
        "plt.legend()\n",
        "plt.show()"
      ],
      "metadata": {
        "colab": {
          "base_uri": "https://localhost:8080/"
        },
        "id": "S9JtnpdvDLZ5",
        "outputId": "9196b999-b914-42f4-b80b-e6652565c1ab"
      },
      "execution_count": null,
      "outputs": [
        {
          "output_type": "stream",
          "name": "stdout",
          "text": [
            "Confusion matrix : [[8 3]\n",
            " [6 5]]\n",
            "Accuracy score : 0.5909090909090909\n",
            "Precision Score : 0.5982142857142857\n",
            "Recall Score : 0.5909090909090909\n",
            "fpr : [0.         0.27272727 1.        ]\n",
            "tpr : [0.         0.45454545 1.        ]\n",
            "thresholds : [2 1 0]\n",
            "auc : 0.5909090909090909\n"
          ]
        },
        {
          "output_type": "display_data",
          "data": {
            "text/plain": [
              "<Figure size 432x288 with 1 Axes>"
            ],
            "image/png": "[encoded data removed]"
          },
          "metadata": {
            "needs_background": "light"
          }
        }
      ]
    },
    {
      "cell_type": "markdown",
      "source": [
        "##AdaBoost\n",
        "\n"
      ],
      "metadata": {
        "id": "bKQMAFErY0dM"
      }
    },
    {
      "cell_type": "code",
      "source": [
        "from sklearn.ensemble import AdaBoostClassifier\n",
        "from sklearn import datasets\n",
        "from sklearn.model_selection import train_test_split\n",
        "from sklearn import metrics\n",
        "X_train,X_test, y_train, y_test = train_test_split(X , y, test_size=0.2)\n",
        "abc = AdaBoostClassifier(n_estimators=50,learning_rate=1)\n",
        "model = abc.fit(X_train, y_train)\n",
        "\n",
        "y_pred = model.predict(X_test)\n",
        "\n",
        "print(\"Accuracy:\",metrics.accuracy_score(y_test, y_pred))"
      ],
      "metadata": {
        "colab": {
          "base_uri": "https://localhost:8080/"
        },
        "id": "RHi_lT3PFL15",
        "outputId": "ed0af83f-bb8b-41b4-b1ca-3d835733adf2"
      },
      "execution_count": null,
      "outputs": [
        {
          "output_type": "stream",
          "name": "stdout",
          "text": [
            "Accuracy: 1.0\n"
          ]
        }
      ]
    },
    {
      "cell_type": "markdown",
      "source": [
        "## Evaluation metrics - AdaBoost"
      ],
      "metadata": {
        "id": "F5M0jgXPeKvN"
      }
    },
    {
      "cell_type": "code",
      "source": [
        "from sklearn.metrics import confusion_matrix\n",
        "from sklearn.metrics import accuracy_score\n",
        "from sklearn.metrics import precision_score\n",
        "from sklearn.metrics import recall_score\n",
        "from sklearn.metrics import f1_score\n",
        "from sklearn import metrics\n",
        "\n",
        "\n",
        "print('Confusion matrix :',confusion_matrix(y_test,y_pred))\n",
        "print('Accuracy score :', accuracy_score(y_test,y_pred))\n",
        "print('Precision Score :', precision_score(y_test,y_pred,pos_label=1,average='macro'))\n",
        "print('Recall Score :', recall_score(y_test,y_pred,pos_label=1,average='macro'))\n",
        "fpr, tpr, thresholds = metrics.roc_curve(y_test,y_pred, pos_label=1)\n",
        "print('fpr :', fpr)\n",
        "print('tpr :', tpr)\n",
        "print('thresholds :', thresholds)\n",
        "auc = metrics.auc(fpr, tpr)\n",
        "print('auc :', auc)\n",
        "\n",
        "plt.plot(fpr,tpr, \"k--\", label=\"chance level (AUC)\")\n",
        "plt.axis(\"square\")\n",
        "plt.xlabel(\"False Positive Rate\")\n",
        "plt.ylabel(\"True Positive Rate\")\n",
        "plt.legend()\n",
        "plt.show()"
      ],
      "metadata": {
        "colab": {
          "base_uri": "https://localhost:8080/"
        },
        "id": "c1RNRkC9HSlq",
        "outputId": "9677ec84-567f-40b1-d896-9479bd4b5d5d"
      },
      "execution_count": null,
      "outputs": [
        {
          "output_type": "stream",
          "name": "stdout",
          "text": [
            "Confusion matrix : [[15  0]\n",
            " [ 0  7]]\n",
            "Accuracy score : 1.0\n",
            "Precision Score : 1.0\n",
            "Recall Score : 1.0\n",
            "fpr : [0. 0. 1.]\n",
            "tpr : [0. 1. 1.]\n",
            "thresholds : [2 1 0]\n",
            "auc : 1.0\n"
          ]
        },
        {
          "output_type": "display_data",
          "data": {
            "text/plain": [
              "<Figure size 432x288 with 1 Axes>"
            ],
            "image/png": "[encoded data removed]"
          },
          "metadata": {
            "needs_background": "light"
          }
        }
      ]
    },
    {
      "cell_type": "markdown",
      "source": [
        "##K-fold"
      ],
      "metadata": {
        "id": "9HkdOX-Oe18x"
      }
    },
    {
      "cell_type": "code",
      "source": [
        "import numpy as np\n",
        "from sklearn.model_selection import KFold\n",
        "\n",
        "kf = KFold(n_splits=2)\n",
        "for train, test in kf.split(data):\n",
        "  print(\"%s %s\" % (train, test))"
      ],
      "metadata": {
        "colab": {
          "base_uri": "https://localhost:8080/"
        },
        "id": "sCXKnoBwe1SH",
        "outputId": "6f002038-9fd6-4411-fa6b-fccba91349c1"
      },
      "execution_count": null,
      "outputs": [
        {
          "output_type": "stream",
          "name": "stdout",
          "text": [
            "[ 55  56  57  58  59  60  61  62  63  64  65  66  67  68  69  70  71  72\n",
            "  73  74  75  76  77  78  79  80  81  82  83  84  85  86  87  88  89  90\n",
            "  91  92  93  94  95  96  97  98  99 100 101 102 103 104 105 106 107 108] [ 0  1  2  3  4  5  6  7  8  9 10 11 12 13 14 15 16 17 18 19 20 21 22 23\n",
            " 24 25 26 27 28 29 30 31 32 33 34 35 36 37 38 39 40 41 42 43 44 45 46 47\n",
            " 48 49 50 51 52 53 54]\n",
            "[ 0  1  2  3  4  5  6  7  8  9 10 11 12 13 14 15 16 17 18 19 20 21 22 23\n",
            " 24 25 26 27 28 29 30 31 32 33 34 35 36 37 38 39 40 41 42 43 44 45 46 47\n",
            " 48 49 50 51 52 53 54] [ 55  56  57  58  59  60  61  62  63  64  65  66  67  68  69  70  71  72\n",
            "  73  74  75  76  77  78  79  80  81  82  83  84  85  86  87  88  89  90\n",
            "  91  92  93  94  95  96  97  98  99 100 101 102 103 104 105 106 107 108]\n"
          ]
        }
      ]
    }
  ]
}